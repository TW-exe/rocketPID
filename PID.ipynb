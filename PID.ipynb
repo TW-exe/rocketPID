{
 "cells": [
  {
   "cell_type": "code",
   "execution_count": 1,
   "metadata": {},
   "outputs": [],
   "source": [
    "import numpy as np\n",
    "import matplotlib.pyplot as plt\n",
    "import turtle \n",
    "import time"
   ]
  },
  {
   "cell_type": "code",
   "execution_count": 3,
   "metadata": {},
   "outputs": [],
   "source": [
    "#GLOBAL PARAMS\n",
    "TIMER = 0\n",
    "TIME_STEP = 0.001\n",
    "SETPOINT = 10\n",
    "SIM_TIME = 100\n",
    "INITIAL_X = 0\n",
    "INITIAL_Y = -100\n",
    "MASS =  23.071#kg\n",
    "MAX_THRUST = 2433.83 #Newtons\n",
    "g = -9.81 #Gravitational constant\n",
    "V_i = 0 #initial velocity \n",
    "Y_i = 0 #initial height\n",
    "#------------\n",
    "#---PID GAINS--- \n",
    "#ku = 0.6\n",
    "#Tu = 18 ms\n",
    "KP = 0.36\n",
    "KI = 40.0\n",
    "KD = 0.0008099999999999997\n",
    "#KD = 0.00128 for higher setpoints\n",
    "antiWindup = True\n",
    "# KP = 0.6\n",
    "# KI = 0.0\n",
    "# KD = 0.0\n",
    "#---------------\n"
   ]
  },
  {
   "cell_type": "code",
   "execution_count": null,
   "metadata": {},
   "outputs": [],
   "source": [
    "# pid controllers work best with a one degree of freedom problem "
   ]
  },
  {
   "cell_type": "code",
   "execution_count": null,
   "metadata": {},
   "outputs": [],
   "source": [
    "class Simulation(object):\n",
    "    def __init__(self):\n",
    "        self.screen = turtle.screen()\n",
    "        self.screen.setup(1280,900)\n",
    "    \n",
    "    def main():\n",
    "        while(timer < 5):\n",
    "            sim = Simulation()\n",
    "            time.sleep(1)\n",
    "            timer += 1\n",
    "            "
   ]
  },
  {
   "cell_type": "code",
   "execution_count": 4,
   "metadata": {},
   "outputs": [],
   "source": [
    "def graph(x,y1,y2,y3,y4,y5):\n",
    "\tfig, (ax1, ax2,ax3,ax4,ax5) = plt.subplots(5, sharex=True)\n",
    "\t#fig.suptitle('antiwindup')\n",
    "\tax1.set(ylabel='rocket \\nHeight')\n",
    "\tax1.plot(x,y1)\n",
    "\tax2.set(ylabel='KP_error')\n",
    "\tax2.plot(x,y2,'tab:red')\n",
    "\tax3.set(ylabel='KD_error')\n",
    "\tax3.plot(x,y3,'tab:orange')\n",
    "\tax4.set(ylabel='KI_error')\n",
    "\tax4.plot(x,y4,'tab:pink')\n",
    "\tax5.set(ylabel='rocket \\nThrust')\n",
    "\tax5.plot(x,y5,'tab:brown')\n",
    "\tplt.show()\n"
   ]
  },
  {
   "cell_type": "code",
   "execution_count": 5,
   "metadata": {},
   "outputs": [],
   "source": [
    "class Rocket(object):\n",
    "\tdef __init__(self):\n",
    "\t\tglobal Rocket\n",
    "\t\tself.Rocket = turtle.Turtle()\n",
    "\t\tself.Rocket.shape('square')\n",
    "\t\tself.Rocket.color('black')\n",
    "\t\tself.Rocket.penup()\n",
    "\t\tself.Rocket.goto(INITIAL_X,INITIAL_Y)\n",
    "\t\tself.Rocket.speed(0)\n",
    "\t\t#physics\n",
    "\t\tself.ddy = 0\n",
    "\t\tself.dy = V_i\n",
    "\t\tself.y = INITIAL_Y\n",
    "\tdef set_ddy(self,thrust):\n",
    "\t\tself.ddy = g + thrust / MASS\n",
    "\tdef get_ddy(self):\n",
    "\t\treturn self.ddy\n",
    "\tdef set_dy(self):\n",
    "\t\tself.dy += self.ddy * TIME_STEP\n",
    "\tdef get_dy(self):\n",
    "\t\treturn self.dy\n",
    "\tdef set_y(self):\n",
    "\t\tself.Rocket.sety(self.y + self.dy * TIME_STEP)\n",
    "\tdef get_y(self):\n",
    "\t\tself.y = self.Rocket.ycor()\n",
    "\t\treturn self.y"
   ]
  },
  {
   "cell_type": "code",
   "execution_count": null,
   "metadata": {},
   "outputs": [],
   "source": [
    "class PID(object):\n",
    "\tdef __init__(self,KP,KI,KD,target):\n",
    "\t\tself.kp = KP\n",
    "\t\tself.ki = KI\n",
    "\t\tself.kd = KD \n",
    "\t\tself.setpoint = target\n",
    "\t\tself.error = 0\n",
    "\t\tself.integral_error = 0\n",
    "\t\tself.error_last = 0\n",
    "\t\tself.derivative_error = 0\n",
    "\t\tself.output = 0\n",
    "\tdef compute(self, pos):\n",
    "\t\tself.error = self.setpoint - pos\n",
    "\t\t#self.integral_error += self.error * TIME_STEP\n",
    "\t\tself.derivative_error = (self.error - self.error_last) / TIME_STEP\n",
    "\t\tself.error_last = self.error\n",
    "\t\tself.output = self.kp*self.error + self.ki*self.integral_error + self.kd*self.derivative_error\n",
    "\t\tif(abs(self.output)>= MAX_THRUST and (((self.error>=0) and (self.integral_error>=0))or((self.error<0) and (self.integral_error<0)))):\n",
    "\t\t\tif(antiWindup):\n",
    "\t\t\t\t#no integration\n",
    "\t\t\t\tself.integral_error = self.integral_error\n",
    "\t\t\telse:\n",
    "\t\t\t\t#if no antiWindup rectangular integration\n",
    "\t\t\t\tself.integral_error += self.error * TIME_STEP\n",
    "\t\telse:\n",
    "\t\t\t#rectangular integration\n",
    "\t\t\tself.integral_error += self.error * TIME_STEP\n",
    "\t\tif self.output >= MAX_THRUST:\n",
    "\t\t\tself.output = MAX_THRUST\n",
    "\t\telif self.output <= 0:\n",
    "\t\t\tself.output = 0\n",
    "\t\treturn self.output\n",
    "\t\t\n",
    "\tdef get_kpe(self):\n",
    "\t\treturn self.kp*self.error\n",
    "\tdef get_kde(self):\n",
    "\t\treturn self.kd*self.derivative_error\n",
    "\tdef get_kie(self):\n",
    "\t\treturn self.ki*self.integral_error"
   ]
  },
  {
   "cell_type": "code",
   "execution_count": null,
   "metadata": {},
   "outputs": [],
   "source": [
    "def main():\n",
    "\tsim = Simulation()\n",
    "\tsim.cycle()\n",
    "\n",
    "main()"
   ]
  },
  {
   "cell_type": "code",
   "execution_count": null,
   "metadata": {},
   "outputs": [],
   "source": []
  }
 ],
 "metadata": {
  "kernelspec": {
   "display_name": "pidTest",
   "language": "python",
   "name": "python3"
  },
  "language_info": {
   "codemirror_mode": {
    "name": "ipython",
    "version": 3
   },
   "file_extension": ".py",
   "mimetype": "text/x-python",
   "name": "python",
   "nbconvert_exporter": "python",
   "pygments_lexer": "ipython3",
   "version": "3.10.14"
  }
 },
 "nbformat": 4,
 "nbformat_minor": 2
}
